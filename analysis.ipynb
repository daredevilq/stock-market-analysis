{
 "cells": [
  {
   "cell_type": "code",
   "execution_count": 7,
   "outputs": [
    {
     "name": "stdout",
     "output_type": "stream",
     "text": [
      "Collecting yfinance\n",
      "  Downloading yfinance-0.2.33-py2.py3-none-any.whl (69 kB)\n",
      "     ---------------------------------------- 69.0/69.0 kB 1.3 MB/s eta 0:00:00\n",
      "Collecting frozendict>=2.3.4\n",
      "  Downloading frozendict-2.3.10-cp310-cp310-win_amd64.whl (35 kB)\n",
      "Collecting lxml>=4.9.1\n",
      "  Downloading lxml-4.9.4-cp310-cp310-win_amd64.whl (3.8 MB)\n",
      "     ---------------------------------------- 3.8/3.8 MB 14.2 MB/s eta 0:00:00\n",
      "Collecting peewee>=3.16.2\n",
      "  Downloading peewee-3.17.0.tar.gz (2.9 MB)\n",
      "     ---------------------------------------- 2.9/2.9 MB 31.2 MB/s eta 0:00:00\n",
      "  Installing build dependencies: started\n",
      "  Installing build dependencies: finished with status 'done'\n",
      "  Getting requirements to build wheel: started\n",
      "  Getting requirements to build wheel: finished with status 'done'\n",
      "  Preparing metadata (pyproject.toml): started\n",
      "  Preparing metadata (pyproject.toml): finished with status 'done'\n",
      "Collecting multitasking>=0.0.7\n",
      "  Downloading multitasking-0.0.11-py3-none-any.whl (8.5 kB)\n",
      "Collecting appdirs>=1.4.4\n",
      "  Downloading appdirs-1.4.4-py2.py3-none-any.whl (9.6 kB)\n",
      "Requirement already satisfied: numpy>=1.16.5 in c:\\users\\piotr\\appdata\\local\\programs\\python\\python310\\lib\\site-packages (from yfinance) (1.26.2)\n",
      "Requirement already satisfied: pytz>=2022.5 in c:\\users\\piotr\\appdata\\local\\programs\\python\\python310\\lib\\site-packages (from yfinance) (2023.3.post1)\n",
      "Requirement already satisfied: requests>=2.31 in c:\\users\\piotr\\appdata\\local\\programs\\python\\python310\\lib\\site-packages (from yfinance) (2.31.0)\n",
      "Collecting html5lib>=1.1\n",
      "  Downloading html5lib-1.1-py2.py3-none-any.whl (112 kB)\n",
      "     -------------------------------------- 112.2/112.2 kB 6.8 MB/s eta 0:00:00\n",
      "Requirement already satisfied: pandas>=1.3.0 in c:\\users\\piotr\\appdata\\local\\programs\\python\\python310\\lib\\site-packages (from yfinance) (2.1.4)\n",
      "Requirement already satisfied: beautifulsoup4>=4.11.1 in c:\\users\\piotr\\appdata\\local\\programs\\python\\python310\\lib\\site-packages (from yfinance) (4.12.2)\n",
      "Requirement already satisfied: soupsieve>1.2 in c:\\users\\piotr\\appdata\\local\\programs\\python\\python310\\lib\\site-packages (from beautifulsoup4>=4.11.1->yfinance) (2.5)\n",
      "Requirement already satisfied: webencodings in c:\\users\\piotr\\appdata\\local\\programs\\python\\python310\\lib\\site-packages (from html5lib>=1.1->yfinance) (0.5.1)\n",
      "Requirement already satisfied: six>=1.9 in c:\\users\\piotr\\appdata\\local\\programs\\python\\python310\\lib\\site-packages (from html5lib>=1.1->yfinance) (1.16.0)\n",
      "Requirement already satisfied: tzdata>=2022.1 in c:\\users\\piotr\\appdata\\local\\programs\\python\\python310\\lib\\site-packages (from pandas>=1.3.0->yfinance) (2023.3)\n",
      "Requirement already satisfied: python-dateutil>=2.8.2 in c:\\users\\piotr\\appdata\\local\\programs\\python\\python310\\lib\\site-packages (from pandas>=1.3.0->yfinance) (2.8.2)\n",
      "Requirement already satisfied: charset-normalizer<4,>=2 in c:\\users\\piotr\\appdata\\local\\programs\\python\\python310\\lib\\site-packages (from requests>=2.31->yfinance) (3.3.2)\n",
      "Requirement already satisfied: urllib3<3,>=1.21.1 in c:\\users\\piotr\\appdata\\local\\programs\\python\\python310\\lib\\site-packages (from requests>=2.31->yfinance) (2.1.0)\n",
      "Requirement already satisfied: certifi>=2017.4.17 in c:\\users\\piotr\\appdata\\local\\programs\\python\\python310\\lib\\site-packages (from requests>=2.31->yfinance) (2023.11.17)\n",
      "Requirement already satisfied: idna<4,>=2.5 in c:\\users\\piotr\\appdata\\local\\programs\\python\\python310\\lib\\site-packages (from requests>=2.31->yfinance) (3.6)\n",
      "Building wheels for collected packages: peewee\n",
      "  Building wheel for peewee (pyproject.toml): started\n",
      "  Building wheel for peewee (pyproject.toml): finished with status 'done'\n",
      "  Created wheel for peewee: filename=peewee-3.17.0-py3-none-any.whl size=135766 sha256=77856aa86e8cf16c1ffff7582865d5e962fcf8485e86869aac8874aeacfd52f9\n",
      "  Stored in directory: c:\\users\\piotr\\appdata\\local\\pip\\cache\\wheels\\c7\\70\\ad\\212867e96e7004265a69c4aa5dcff00a95f547a67ba26e7e76\n",
      "Successfully built peewee\n",
      "Installing collected packages: peewee, multitasking, appdirs, lxml, html5lib, frozendict, yfinance\n",
      "Successfully installed appdirs-1.4.4 frozendict-2.3.10 html5lib-1.1 lxml-4.9.4 multitasking-0.0.11 peewee-3.17.0 yfinance-0.2.33\n"
     ]
    },
    {
     "name": "stderr",
     "output_type": "stream",
     "text": [
      "\n",
      "[notice] A new release of pip available: 22.2.2 -> 23.3.2\n",
      "[notice] To update, run: C:\\Users\\piotr\\AppData\\Local\\Programs\\Python\\Python310\\python.exe -m pip install --upgrade pip\n"
     ]
    }
   ],
   "source": [
    "!pip install yfinance"
   ],
   "metadata": {
    "collapsed": false,
    "ExecuteTime": {
     "end_time": "2023-12-26T20:45:33.671820700Z",
     "start_time": "2023-12-26T20:45:05.027891500Z"
    }
   },
   "id": "2afbc0d4314fa7cd"
  },
  {
   "cell_type": "code",
   "execution_count": 28,
   "outputs": [],
   "source": [
    "#imports\n",
    "import yfinance as yf\n",
    "import sqlite3\n",
    "import numpy as np\n",
    "import pandas as pd\n",
    "import matplotlib as mplt\n",
    "from matplotlib import pyplot as plt\n",
    "import seaborn as sns\n",
    "%matplotlib inline"
   ],
   "metadata": {
    "collapsed": false,
    "ExecuteTime": {
     "end_time": "2023-12-26T22:37:50.557591200Z",
     "start_time": "2023-12-26T22:37:50.537595500Z"
    }
   },
   "id": "be87ff64fa0edc57"
  },
  {
   "cell_type": "code",
   "execution_count": 49,
   "outputs": [
    {
     "name": "stdout",
     "output_type": "stream",
     "text": [
      "[*********************100%%**********************]  1 of 1 completed\n"
     ]
    }
   ],
   "source": [
    "symbol = \"AAPL\"\n",
    "data = yf.download(symbol, period=\"max\")\n",
    "conn = sqlite3.connect(\"danefinansowe.db\")\n",
    "\n",
    "data.to_sql(name=symbol, con=conn , if_exists=\"replace\", index=True)\n",
    "conn.close()\n"
   ],
   "metadata": {
    "collapsed": false,
    "ExecuteTime": {
     "end_time": "2023-12-26T23:45:59.085463600Z",
     "start_time": "2023-12-26T23:45:58.339898900Z"
    }
   },
   "id": "6cf281b610144142"
  },
  {
   "cell_type": "code",
   "execution_count": 20,
   "outputs": [
    {
     "data": {
      "text/plain": "                  Date      Open      High       Low     Close  Adj Close  \\\n0  1980-12-12 00:00:00  0.128348  0.128906  0.128348  0.128348   0.099319   \n1  1980-12-15 00:00:00  0.122210  0.122210  0.121652  0.121652   0.094137   \n2  1980-12-16 00:00:00  0.113281  0.113281  0.112723  0.112723   0.087228   \n3  1980-12-17 00:00:00  0.115513  0.116071  0.115513  0.115513   0.089387   \n4  1980-12-18 00:00:00  0.118862  0.119420  0.118862  0.118862   0.091978   \n\n      Volume  \n0  469033600  \n1  175884800  \n2  105728000  \n3   86441600  \n4   73449600  ",
      "text/html": "<div>\n<style scoped>\n    .dataframe tbody tr th:only-of-type {\n        vertical-align: middle;\n    }\n\n    .dataframe tbody tr th {\n        vertical-align: top;\n    }\n\n    .dataframe thead th {\n        text-align: right;\n    }\n</style>\n<table border=\"1\" class=\"dataframe\">\n  <thead>\n    <tr style=\"text-align: right;\">\n      <th></th>\n      <th>Date</th>\n      <th>Open</th>\n      <th>High</th>\n      <th>Low</th>\n      <th>Close</th>\n      <th>Adj Close</th>\n      <th>Volume</th>\n    </tr>\n  </thead>\n  <tbody>\n    <tr>\n      <th>0</th>\n      <td>1980-12-12 00:00:00</td>\n      <td>0.128348</td>\n      <td>0.128906</td>\n      <td>0.128348</td>\n      <td>0.128348</td>\n      <td>0.099319</td>\n      <td>469033600</td>\n    </tr>\n    <tr>\n      <th>1</th>\n      <td>1980-12-15 00:00:00</td>\n      <td>0.122210</td>\n      <td>0.122210</td>\n      <td>0.121652</td>\n      <td>0.121652</td>\n      <td>0.094137</td>\n      <td>175884800</td>\n    </tr>\n    <tr>\n      <th>2</th>\n      <td>1980-12-16 00:00:00</td>\n      <td>0.113281</td>\n      <td>0.113281</td>\n      <td>0.112723</td>\n      <td>0.112723</td>\n      <td>0.087228</td>\n      <td>105728000</td>\n    </tr>\n    <tr>\n      <th>3</th>\n      <td>1980-12-17 00:00:00</td>\n      <td>0.115513</td>\n      <td>0.116071</td>\n      <td>0.115513</td>\n      <td>0.115513</td>\n      <td>0.089387</td>\n      <td>86441600</td>\n    </tr>\n    <tr>\n      <th>4</th>\n      <td>1980-12-18 00:00:00</td>\n      <td>0.118862</td>\n      <td>0.119420</td>\n      <td>0.118862</td>\n      <td>0.118862</td>\n      <td>0.091978</td>\n      <td>73449600</td>\n    </tr>\n  </tbody>\n</table>\n</div>"
     },
     "execution_count": 20,
     "metadata": {},
     "output_type": "execute_result"
    }
   ],
   "source": [
    "conn = sqlite3.connect(\"danefinansowe.db\")\n",
    "query = f\"SELECT * FROM AAPL\"\n",
    "df = pd.read_sql(query, conn)\n",
    "conn.close()\n",
    "\n",
    "df.head(5)"
   ],
   "metadata": {
    "collapsed": false,
    "ExecuteTime": {
     "end_time": "2023-12-26T22:19:33.492078700Z",
     "start_time": "2023-12-26T22:19:33.335494300Z"
    }
   },
   "id": "6112a071a9bbc735"
  },
  {
   "cell_type": "code",
   "execution_count": 22,
   "outputs": [
    {
     "data": {
      "text/plain": "(10850, 7)"
     },
     "execution_count": 22,
     "metadata": {},
     "output_type": "execute_result"
    }
   ],
   "source": [
    "df.shape"
   ],
   "metadata": {
    "collapsed": false,
    "ExecuteTime": {
     "end_time": "2023-12-26T22:20:23.569241600Z",
     "start_time": "2023-12-26T22:20:23.475136100Z"
    }
   },
   "id": "f9ac1a7190bf2045"
  },
  {
   "cell_type": "code",
   "execution_count": 37,
   "outputs": [
    {
     "name": "stdout",
     "output_type": "stream",
     "text": [
      "<class 'pandas.core.frame.DataFrame'>\n",
      "DatetimeIndex: 10850 entries, 1980-12-12 to 2023-12-26\n",
      "Data columns (total 1 columns):\n",
      " #   Column  Non-Null Count  Dtype  \n",
      "---  ------  --------------  -----  \n",
      " 0   Close   10850 non-null  float64\n",
      "dtypes: float64(1)\n",
      "memory usage: 169.5 KB\n"
     ]
    }
   ],
   "source": [
    "df.info()"
   ],
   "metadata": {
    "collapsed": false,
    "ExecuteTime": {
     "end_time": "2023-12-26T22:59:10.897520900Z",
     "start_time": "2023-12-26T22:59:10.790991200Z"
    }
   },
   "id": "817c07a9a4ccb944"
  },
  {
   "cell_type": "code",
   "execution_count": 39,
   "outputs": [
    {
     "data": {
      "text/plain": "<Figure size 640x480 with 1 Axes>",
      "image/png": "[encoded data removed]"
     },
     "metadata": {},
     "output_type": "display_data"
    }
   ],
   "source": [
    "# Łączenie z bazą danych SQLite\n",
    "conn = sqlite3.connect(\"danefinansowe.db\")\n",
    "\n",
    "# Pobieranie danych z bazy danych do DataFrame\n",
    "symbol = \"AAPL\"\n",
    "query = f\"SELECT Date, Close FROM {symbol}\"\n",
    "df = pd.read_sql(query, conn)\n",
    "\n",
    "# Zamknięcie połączenia z bazą danych\n",
    "conn.close()\n",
    "\n",
    "# Konwersja kolumny 'Date' do typu datetime\n",
    "df['Date'] = pd.to_datetime(df['Date'])\n",
    "\n",
    "# Ustawienie kolumny 'Date' jako indeks\n",
    "df.set_index('Date', inplace=True)\n",
    "\n",
    "# Narysowanie wykresu\n",
    "plt.plot(df.index, df['Close'], label=f'APPLE Close Price')\n",
    "plt.title(f'APPLE Close Price Over Time')\n",
    "plt.xlabel('Date')\n",
    "plt.ylabel('Close Price')\n",
    "plt.legend()\n",
    "plt.show()"
   ],
   "metadata": {
    "collapsed": false,
    "ExecuteTime": {
     "end_time": "2023-12-26T22:59:42.523680Z",
     "start_time": "2023-12-26T22:59:41.988126200Z"
    }
   },
   "id": "cd54267ec491426c"
  },
  {
   "cell_type": "code",
   "execution_count": 40,
   "outputs": [],
   "source": [
    "# dolaczanie kolumny do bazy danych\n",
    "# Łączenie z bazą danych SQLite\n",
    "conn = sqlite3.connect(\"danefinansowe.db\")\n",
    "\n",
    "# Pobieranie danych z bazy danych do DataFrame\n",
    "symbol = \"AAPL\"\n",
    "query = f\"SELECT * FROM {symbol}\"\n",
    "df = pd.read_sql(query, conn)\n",
    "\n",
    "# Zamknięcie połączenia z bazą danych\n",
    "conn.close()\n",
    "\n",
    "# Obliczenie kolumny \"High-Low Returns\"\n",
    "df['High-Low Returns'] = (df['High'] - df['Low']) / df['Low']\n",
    "\n",
    "# Ponowne połączenie z bazą danych SQLite\n",
    "conn = sqlite3.connect(\"danefinansowe.db\")\n",
    "\n",
    "# Zapisywanie danych z DataFrame do istniejącej tabeli\n",
    "df.to_sql(name=symbol, con=conn, if_exists=\"replace\", index=True)\n",
    "\n",
    "# Zamknięcie połączenia z bazą danych\n",
    "conn.close()"
   ],
   "metadata": {
    "collapsed": false,
    "ExecuteTime": {
     "end_time": "2023-12-26T23:17:20.602454800Z",
     "start_time": "2023-12-26T23:17:20.292432400Z"
    }
   },
   "id": "a9d9ae497055ba38"
  },
  {
   "cell_type": "code",
   "execution_count": 50,
   "outputs": [],
   "source": [
    "# Łączenie z bazą danych SQLite\n",
    "conn = sqlite3.connect(\"danefinansowe.db\")\n",
    "\n",
    "# Pobieranie danych z bazy danych do DataFrame\n",
    "symbol = \"AAPL\"\n",
    "query = f\"SELECT * FROM {symbol}\"\n",
    "df = pd.read_sql(query, conn)\n",
    "\n",
    "# Zamknięcie połączenia z bazą danych\n",
    "conn.close()\n",
    "\n",
    "# Obliczenie kolumny \"C-C Returns\"\n",
    "df['C-C Returns'] = (df['Adj Close'] - df['Adj Close'].shift(-1)) / df['Adj Close'].shift(-1)\n",
    "\n",
    "# Ponowne połączenie z bazą danych SQLite\n",
    "conn = sqlite3.connect(\"danefinansowe.db\")\n",
    "\n",
    "# Zapisywanie danych z DataFrame do istniejącej tabeli\n",
    "df.to_sql(name=symbol, con=conn, if_exists=\"replace\", index=True)\n",
    "\n",
    "# Zamknięcie połączenia z bazą danych\n",
    "conn.close()"
   ],
   "metadata": {
    "collapsed": false,
    "ExecuteTime": {
     "end_time": "2023-12-26T23:47:00.568648200Z",
     "start_time": "2023-12-26T23:47:00.358429500Z"
    }
   },
   "id": "4ac15737eddd828a"
  },
  {
   "cell_type": "code",
   "execution_count": 51,
   "outputs": [
    {
     "data": {
      "text/plain": "0.029559065717114974"
     },
     "execution_count": 51,
     "metadata": {},
     "output_type": "execute_result"
    }
   ],
   "source": [
    "X = df['C-C Returns']\n",
    "X.std()\n"
   ],
   "metadata": {
    "collapsed": false,
    "ExecuteTime": {
     "end_time": "2023-12-27T00:36:51.981577700Z",
     "start_time": "2023-12-27T00:36:51.869027Z"
    }
   },
   "id": "f0ff64818ad3e71"
  },
  {
   "cell_type": "code",
   "execution_count": null,
   "outputs": [],
   "source": [],
   "metadata": {
    "collapsed": false
   },
   "id": "60d7bef0112660b4"
  }
 ],
 "metadata": {
  "kernelspec": {
   "display_name": "Python 3",
   "language": "python",
   "name": "python3"
  },
  "language_info": {
   "codemirror_mode": {
    "name": "ipython",
    "version": 2
   },
   "file_extension": ".py",
   "mimetype": "text/x-python",
   "name": "python",
   "nbconvert_exporter": "python",
   "pygments_lexer": "ipython2",
   "version": "2.7.6"
  }
 },
 "nbformat": 4,
 "nbformat_minor": 5
}
