{
 "cells": [
  {
   "cell_type": "raw",
   "source": [
    "##%% md\n",
    "Piotr Śmiałek"
   ],
   "metadata": {
    "collapsed": false
   },
   "id": "79d18c5788ba96d4"
  },
  {
   "cell_type": "code",
   "execution_count": 1,
   "outputs": [
    {
     "name": "stdout",
     "output_type": "stream",
     "text": [
      "testtestest\n"
     ]
    }
   ],
   "source": [
    "print(\"testtestest\")"
   ],
   "metadata": {
    "collapsed": false,
    "ExecuteTime": {
     "end_time": "2023-12-26T12:01:09.407906200Z",
     "start_time": "2023-12-26T12:01:09.389159900Z"
    }
   },
   "id": "4ef980c35540b2f3"
  },
  {
   "cell_type": "code",
   "execution_count": 2,
   "outputs": [],
   "source": [
    "variable1 = 1\n",
    "variable2 = 2"
   ],
   "metadata": {
    "collapsed": false,
    "ExecuteTime": {
     "end_time": "2023-12-26T12:01:41.518304200Z",
     "start_time": "2023-12-26T12:01:41.474749400Z"
    }
   },
   "id": "bfffd6b83215ab4c"
  },
  {
   "cell_type": "code",
   "execution_count": 3,
   "outputs": [
    {
     "name": "stdout",
     "output_type": "stream",
     "text": [
      "3\n"
     ]
    }
   ],
   "source": [
    "print(variable1+variable2)"
   ],
   "metadata": {
    "collapsed": false,
    "ExecuteTime": {
     "end_time": "2023-12-26T12:02:10.457235400Z",
     "start_time": "2023-12-26T12:02:10.294681100Z"
    }
   },
   "id": "7372327174d0a4e7"
  },
  {
   "cell_type": "code",
   "execution_count": null,
   "outputs": [],
   "source": [],
   "metadata": {
    "collapsed": false
   },
   "id": "dc089e4c3378aacb"
  }
 ],
 "metadata": {
  "kernelspec": {
   "display_name": "Python 3",
   "language": "python",
   "name": "python3"
  },
  "language_info": {
   "codemirror_mode": {
    "name": "ipython",
    "version": 2
   },
   "file_extension": ".py",
   "mimetype": "text/x-python",
   "name": "python",
   "nbconvert_exporter": "python",
   "pygments_lexer": "ipython2",
   "version": "2.7.6"
  }
 },
 "nbformat": 4,
 "nbformat_minor": 5
}
