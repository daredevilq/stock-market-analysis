{
 "cells": [
  {
   "cell_type": "markdown",
   "source": [
    "Rachunek prawdopodobieństwa i statystyka \n",
    "Piotr Śmiałek "
   ],
   "metadata": {
    "collapsed": false
   },
   "id": "62d27874afca7512"
  },
  {
   "cell_type": "markdown",
   "source": [
    "Będę korzystał z API yfinance, która umożliwi mi pobieranie danych z yahoo\n",
    "Wiecej informacji\n",
    "https://pypi.org/project/yfinance/"
   ],
   "metadata": {
    "collapsed": false
   },
   "id": "5d69abc689aa1ea6"
  },
  {
   "cell_type": "code",
   "execution_count": 1,
   "outputs": [
    {
     "name": "stdout",
     "output_type": "stream",
     "text": [
      "Requirement already satisfied: yfinance in c:\\users\\piotr\\appdata\\local\\programs\\python\\python310\\lib\\site-packages (0.2.33)\n",
      "Requirement already satisfied: pandas>=1.3.0 in c:\\users\\piotr\\appdata\\local\\programs\\python\\python310\\lib\\site-packages (from yfinance) (2.1.4)\n",
      "Requirement already satisfied: multitasking>=0.0.7 in c:\\users\\piotr\\appdata\\local\\programs\\python\\python310\\lib\\site-packages (from yfinance) (0.0.11)\n",
      "Requirement already satisfied: lxml>=4.9.1 in c:\\users\\piotr\\appdata\\local\\programs\\python\\python310\\lib\\site-packages (from yfinance) (4.9.4)\n",
      "Requirement already satisfied: pytz>=2022.5 in c:\\users\\piotr\\appdata\\local\\programs\\python\\python310\\lib\\site-packages (from yfinance) (2023.3.post1)\n",
      "Requirement already satisfied: peewee>=3.16.2 in c:\\users\\piotr\\appdata\\local\\programs\\python\\python310\\lib\\site-packages (from yfinance) (3.17.0)\n",
      "Requirement already satisfied: requests>=2.31 in c:\\users\\piotr\\appdata\\local\\programs\\python\\python310\\lib\\site-packages (from yfinance) (2.31.0)\n",
      "Requirement already satisfied: beautifulsoup4>=4.11.1 in c:\\users\\piotr\\appdata\\local\\programs\\python\\python310\\lib\\site-packages (from yfinance) (4.12.2)\n",
      "Requirement already satisfied: numpy>=1.16.5 in c:\\users\\piotr\\appdata\\local\\programs\\python\\python310\\lib\\site-packages (from yfinance) (1.26.2)\n",
      "Requirement already satisfied: frozendict>=2.3.4 in c:\\users\\piotr\\appdata\\local\\programs\\python\\python310\\lib\\site-packages (from yfinance) (2.3.10)\n",
      "Requirement already satisfied: html5lib>=1.1 in c:\\users\\piotr\\appdata\\local\\programs\\python\\python310\\lib\\site-packages (from yfinance) (1.1)\n",
      "Requirement already satisfied: appdirs>=1.4.4 in c:\\users\\piotr\\appdata\\local\\programs\\python\\python310\\lib\\site-packages (from yfinance) (1.4.4)\n",
      "Requirement already satisfied: soupsieve>1.2 in c:\\users\\piotr\\appdata\\local\\programs\\python\\python310\\lib\\site-packages (from beautifulsoup4>=4.11.1->yfinance) (2.5)\n",
      "Requirement already satisfied: webencodings in c:\\users\\piotr\\appdata\\local\\programs\\python\\python310\\lib\\site-packages (from html5lib>=1.1->yfinance) (0.5.1)\n",
      "Requirement already satisfied: six>=1.9 in c:\\users\\piotr\\appdata\\local\\programs\\python\\python310\\lib\\site-packages (from html5lib>=1.1->yfinance) (1.16.0)\n",
      "Requirement already satisfied: python-dateutil>=2.8.2 in c:\\users\\piotr\\appdata\\local\\programs\\python\\python310\\lib\\site-packages (from pandas>=1.3.0->yfinance) (2.8.2)\n",
      "Requirement already satisfied: tzdata>=2022.1 in c:\\users\\piotr\\appdata\\local\\programs\\python\\python310\\lib\\site-packages (from pandas>=1.3.0->yfinance) (2023.3)\n",
      "Requirement already satisfied: charset-normalizer<4,>=2 in c:\\users\\piotr\\appdata\\local\\programs\\python\\python310\\lib\\site-packages (from requests>=2.31->yfinance) (3.3.2)\n",
      "Requirement already satisfied: urllib3<3,>=1.21.1 in c:\\users\\piotr\\appdata\\local\\programs\\python\\python310\\lib\\site-packages (from requests>=2.31->yfinance) (2.1.0)\n",
      "Requirement already satisfied: idna<4,>=2.5 in c:\\users\\piotr\\appdata\\local\\programs\\python\\python310\\lib\\site-packages (from requests>=2.31->yfinance) (3.6)\n",
      "Requirement already satisfied: certifi>=2017.4.17 in c:\\users\\piotr\\appdata\\local\\programs\\python\\python310\\lib\\site-packages (from requests>=2.31->yfinance) (2023.11.17)\n"
     ]
    },
    {
     "name": "stderr",
     "output_type": "stream",
     "text": [
      "\n",
      "[notice] A new release of pip available: 22.2.2 -> 23.3.2\n",
      "[notice] To update, run: C:\\Users\\piotr\\AppData\\Local\\Programs\\Python\\Python310\\python.exe -m pip install --upgrade pip\n"
     ]
    }
   ],
   "source": [
    "!pip install yfinance"
   ],
   "metadata": {
    "collapsed": false,
    "ExecuteTime": {
     "end_time": "2023-12-27T11:47:46.235943300Z",
     "start_time": "2023-12-27T11:47:43.284404700Z"
    }
   },
   "id": "ef44505cb185ae35"
  },
  {
   "cell_type": "markdown",
   "source": [
    "Importowanie niezbędnych bibliotek"
   ],
   "metadata": {
    "collapsed": false
   },
   "id": "f2c69edd6fc690ab"
  },
  {
   "cell_type": "code",
   "execution_count": 2,
   "outputs": [],
   "source": [
    "import yfinance as yf\n",
    "import sqlite3\n",
    "import numpy as np\n",
    "import pandas as pd\n",
    "import matplotlib as mplt\n",
    "from matplotlib import pyplot as plt\n",
    "import seaborn as sns\n",
    "%matplotlib inline"
   ],
   "metadata": {
    "collapsed": false,
    "ExecuteTime": {
     "end_time": "2023-12-27T11:49:10.478544200Z",
     "start_time": "2023-12-27T11:49:09.599061Z"
    }
   },
   "id": "c310c6bad07bb506"
  },
  {
   "cell_type": "markdown",
   "source": [
    "Importowanie danych\n",
    "\n",
    "Do importowania danych z bazy użyję funkcji:"
   ],
   "metadata": {
    "collapsed": false
   },
   "id": "1dad8afb79b621d5"
  },
  {
   "cell_type": "code",
   "execution_count": 7,
   "outputs": [],
   "source": [
    "def import_data(symbol, database_name, data_intervals):\n",
    "    data = yf.download(symbol, period=\"max\", interval=data_intervals)\n",
    "    conn = sqlite3.connect(\"./data/\" + database_name)\n",
    "    data.to_sql(name=symbol, con=conn , if_exists=\"replace\", index=True)\n",
    "    conn.close()"
   ],
   "metadata": {
    "collapsed": false,
    "ExecuteTime": {
     "end_time": "2023-12-27T12:09:05.493705400Z",
     "start_time": "2023-12-27T12:09:05.462001800Z"
    }
   },
   "id": "31e1e2e34a886931"
  },
  {
   "cell_type": "markdown",
   "source": [
    "Za pomocą powyższej funkcji bedę mógł stworzyć 4 osobne zbiory danych dla firmy Microsoft, dla interwałów:\n",
    "dniowego, tygodniowego, miesięcznego i kwartalnego."
   ],
   "metadata": {
    "collapsed": false
   },
   "id": "6ce274034daaee44"
  },
  {
   "cell_type": "code",
   "execution_count": 8,
   "outputs": [
    {
     "name": "stdout",
     "output_type": "stream",
     "text": [
      "[*********************100%%**********************]  1 of 1 completed\n",
      "[*********************100%%**********************]  1 of 1 completed\n",
      "[*********************100%%**********************]  1 of 1 completed\n",
      "[*********************100%%**********************]  1 of 1 completed\n"
     ]
    }
   ],
   "source": [
    "import_data(\"MSFT\", \"microsoft_daily.db\", \"1d\")\n",
    "import_data(\"MSFT\", \"microsoft_weekly.db\", \"1wk\")\n",
    "import_data(\"MSFT\", \"microsoft_monthly.db\", \"1mo\")\n",
    "import_data(\"MSFT\", \"microsoft_quarterly.db\", \"3mo\")"
   ],
   "metadata": {
    "collapsed": false,
    "ExecuteTime": {
     "end_time": "2023-12-27T12:09:12.669529600Z",
     "start_time": "2023-12-27T12:09:11.280745800Z"
    }
   },
   "id": "65bc825803e454f2"
  },
  {
   "cell_type": "markdown",
   "source": [
    "Poniższa funkcja umożliwi mi zapisanie danych z SQL do DataFrame."
   ],
   "metadata": {
    "collapsed": false
   },
   "id": "3ff0b02ee1e7bc04"
  },
  {
   "cell_type": "code",
   "execution_count": 9,
   "outputs": [],
   "source": [
    "def convert_to_dataframe(symbol,database_path):\n",
    "    conn = sqlite3.connect(database_path)\n",
    "    query = f\"SELECT * FROM {symbol}\"\n",
    "    df = pd.read_sql(query, conn)\n",
    "    conn.close()\n",
    "    return df"
   ],
   "metadata": {
    "collapsed": false,
    "ExecuteTime": {
     "end_time": "2023-12-27T12:23:37.021777400Z",
     "start_time": "2023-12-27T12:23:36.999774500Z"
    }
   },
   "id": "7c5c11718557144c"
  },
  {
   "cell_type": "markdown",
   "source": [
    "Konwersja danych do DataFrame"
   ],
   "metadata": {
    "collapsed": false
   },
   "id": "499f340d5d52a129"
  },
  {
   "cell_type": "code",
   "execution_count": 12,
   "outputs": [],
   "source": [
    "df_microsoft_daily = convert_to_dataframe(\"MSFT\", \"./data/microsoft_daily.db\")\n",
    "df_microsoft_weekly = convert_to_dataframe(\"MSFT\", \"./data/microsoft_weekly.db\")\n",
    "df_microsoft_monthly = convert_to_dataframe(\"MSFT\", \"./data/microsoft_monthly.db\")\n",
    "df_microsoft_quarterly = convert_to_dataframe(\"MSFT\", \"./data/microsoft_quarterly.db\")"
   ],
   "metadata": {
    "collapsed": false,
    "ExecuteTime": {
     "end_time": "2023-12-27T12:59:13.801379900Z",
     "start_time": "2023-12-27T12:59:13.691993900Z"
    }
   },
   "id": "3985cc3816e0433b"
  },
  {
   "cell_type": "markdown",
   "source": [
    "Sprawdzenie poprawności wczytanych danych:"
   ],
   "metadata": {
    "collapsed": false
   },
   "id": "f58c51001101b1dc"
  },
  {
   "cell_type": "code",
   "execution_count": 14,
   "outputs": [
    {
     "data": {
      "text/plain": "(9524, 7)"
     },
     "execution_count": 14,
     "metadata": {},
     "output_type": "execute_result"
    }
   ],
   "source": [
    "df_microsoft_daily.shape"
   ],
   "metadata": {
    "collapsed": false,
    "ExecuteTime": {
     "end_time": "2023-12-27T13:01:04.341975500Z",
     "start_time": "2023-12-27T13:01:04.277220Z"
    }
   },
   "id": "dfc2ff82d9841810"
  },
  {
   "cell_type": "code",
   "execution_count": 15,
   "outputs": [
    {
     "data": {
      "text/plain": "(1973, 7)"
     },
     "execution_count": 15,
     "metadata": {},
     "output_type": "execute_result"
    }
   ],
   "source": [
    "df_microsoft_weekly.shape"
   ],
   "metadata": {
    "collapsed": false,
    "ExecuteTime": {
     "end_time": "2023-12-27T13:01:07.039065100Z",
     "start_time": "2023-12-27T13:01:06.996697200Z"
    }
   },
   "id": "39d772f82943689a"
  },
  {
   "cell_type": "code",
   "execution_count": 16,
   "outputs": [
    {
     "data": {
      "text/plain": "(453, 7)"
     },
     "execution_count": 16,
     "metadata": {},
     "output_type": "execute_result"
    }
   ],
   "source": [
    "df_microsoft_monthly.shape"
   ],
   "metadata": {
    "collapsed": false,
    "ExecuteTime": {
     "end_time": "2023-12-27T13:01:12.497673700Z",
     "start_time": "2023-12-27T13:01:12.337544700Z"
    }
   },
   "id": "2ccaa0ced389bdd2"
  },
  {
   "cell_type": "code",
   "execution_count": 17,
   "outputs": [
    {
     "data": {
      "text/plain": "(152, 7)"
     },
     "execution_count": 17,
     "metadata": {},
     "output_type": "execute_result"
    }
   ],
   "source": [
    "df_microsoft_quarterly.shape"
   ],
   "metadata": {
    "collapsed": false,
    "ExecuteTime": {
     "end_time": "2023-12-27T13:01:15.931203900Z",
     "start_time": "2023-12-27T13:01:15.631009300Z"
    }
   },
   "id": "de6e6d394162e88d"
  },
  {
   "cell_type": "markdown",
   "source": [
    "Każda z wczytanych tabel posiada 7 kolumn:\n",
    "- Date\n",
    "\n",
    "- Open - otwarcie to cena instrumentu finansowego (takiego jak akcje) w momencie otwarcia sesji handlowej na rynku. Oznacza to, ile jednostek waluty trzeba było zapłacić lub otrzymać w zamian za jednostkę instrumentu finansowego napoczątku sesji.\n",
    "\n",
    "- High - najwyższa cena instrumentu finansowego osiągnięta w trakcie danego okresu czasu (np. jednej sesji handlowej). To jest największa wartość, którą osiągnęła cena w danym przedziale czasowym.\n",
    "\n",
    "- Low - najniższa cena instrumentu finansowego osiągnięta w trakcie danego okresu czasu. To jest najmniejsza wartość, którą osiągnęła cena w danym przedziale czasowym.\n",
    "\n",
    "- Close - cena instrumentu finansowego w momencie zamknięcia sesji handlowej. Oznacza to, ile jednostek waluty trzeba było zapłacić lub otrzymać w zamian za jednostkę instrumentu finansowego na końcu sesji.\n",
    "\n",
    "- Adj Close - cena instrumentu finansowego w momencie zamknięcia sesji handlowej. Oznacza to, ile jednostek waluty trzeba było zapłacić lub otrzymać w zamian za jednostkę instrumentu finansowego na końcu sesji.\n",
    "\n",
    "- Volume - wolumen to liczba jednostek instrumentu finansowego, które zostały wymienione w danym okresie czasu. Oznacza to, ile razy dany instrument finansowy został kupiony lub sprzedany w danym przedziale czasowym."
   ],
   "metadata": {
    "collapsed": false
   },
   "id": "52c83a975e2c2422"
  },
  {
   "cell_type": "code",
   "execution_count": 18,
   "outputs": [
    {
     "data": {
      "text/plain": "                  Date      Open      High       Low     Close  Adj Close  \\\n0  1986-03-13 00:00:00  0.088542  0.101563  0.088542  0.097222   0.060274   \n1  1986-03-14 00:00:00  0.097222  0.102431  0.097222  0.100694   0.062427   \n2  1986-03-17 00:00:00  0.100694  0.103299  0.100694  0.102431   0.063504   \n3  1986-03-18 00:00:00  0.102431  0.103299  0.098958  0.099826   0.061888   \n4  1986-03-19 00:00:00  0.099826  0.100694  0.097222  0.098090   0.060812   \n\n       Volume  \n0  1031788800  \n1   308160000  \n2   133171200  \n3    67766400  \n4    47894400  ",
      "text/html": "<div>\n<style scoped>\n    .dataframe tbody tr th:only-of-type {\n        vertical-align: middle;\n    }\n\n    .dataframe tbody tr th {\n        vertical-align: top;\n    }\n\n    .dataframe thead th {\n        text-align: right;\n    }\n</style>\n<table border=\"1\" class=\"dataframe\">\n  <thead>\n    <tr style=\"text-align: right;\">\n      <th></th>\n      <th>Date</th>\n      <th>Open</th>\n      <th>High</th>\n      <th>Low</th>\n      <th>Close</th>\n      <th>Adj Close</th>\n      <th>Volume</th>\n    </tr>\n  </thead>\n  <tbody>\n    <tr>\n      <th>0</th>\n      <td>1986-03-13 00:00:00</td>\n      <td>0.088542</td>\n      <td>0.101563</td>\n      <td>0.088542</td>\n      <td>0.097222</td>\n      <td>0.060274</td>\n      <td>1031788800</td>\n    </tr>\n    <tr>\n      <th>1</th>\n      <td>1986-03-14 00:00:00</td>\n      <td>0.097222</td>\n      <td>0.102431</td>\n      <td>0.097222</td>\n      <td>0.100694</td>\n      <td>0.062427</td>\n      <td>308160000</td>\n    </tr>\n    <tr>\n      <th>2</th>\n      <td>1986-03-17 00:00:00</td>\n      <td>0.100694</td>\n      <td>0.103299</td>\n      <td>0.100694</td>\n      <td>0.102431</td>\n      <td>0.063504</td>\n      <td>133171200</td>\n    </tr>\n    <tr>\n      <th>3</th>\n      <td>1986-03-18 00:00:00</td>\n      <td>0.102431</td>\n      <td>0.103299</td>\n      <td>0.098958</td>\n      <td>0.099826</td>\n      <td>0.061888</td>\n      <td>67766400</td>\n    </tr>\n    <tr>\n      <th>4</th>\n      <td>1986-03-19 00:00:00</td>\n      <td>0.099826</td>\n      <td>0.100694</td>\n      <td>0.097222</td>\n      <td>0.098090</td>\n      <td>0.060812</td>\n      <td>47894400</td>\n    </tr>\n  </tbody>\n</table>\n</div>"
     },
     "execution_count": 18,
     "metadata": {},
     "output_type": "execute_result"
    }
   ],
   "source": [
    "df_microsoft_daily.head()"
   ],
   "metadata": {
    "collapsed": false,
    "ExecuteTime": {
     "end_time": "2023-12-27T13:05:05.127351400Z",
     "start_time": "2023-12-27T13:05:04.871139300Z"
    }
   },
   "id": "daacf6fe18986015"
  },
  {
   "cell_type": "code",
   "execution_count": 19,
   "outputs": [
    {
     "data": {
      "text/plain": "                  Date      Open      High       Low     Close  Adj Close  \\\n0  1986-03-10 00:00:00  0.088542  0.102431  0.088542  0.100694   0.062427   \n1  1986-03-17 00:00:00  0.100694  0.103299  0.091146  0.092882   0.057583   \n2  1986-03-24 00:00:00  0.092882  0.096354  0.089410  0.096354   0.059736   \n3  1986-03-31 00:00:00  0.096354  0.098958  0.093750  0.096354   0.059736   \n4  1986-04-07 00:00:00  0.096354  0.101563  0.092882  0.099826   0.061889   \n\n       Volume  \n0  1339948800  \n1   367257600  \n2   136972800  \n3   100598400  \n4    70070400  ",
      "text/html": "<div>\n<style scoped>\n    .dataframe tbody tr th:only-of-type {\n        vertical-align: middle;\n    }\n\n    .dataframe tbody tr th {\n        vertical-align: top;\n    }\n\n    .dataframe thead th {\n        text-align: right;\n    }\n</style>\n<table border=\"1\" class=\"dataframe\">\n  <thead>\n    <tr style=\"text-align: right;\">\n      <th></th>\n      <th>Date</th>\n      <th>Open</th>\n      <th>High</th>\n      <th>Low</th>\n      <th>Close</th>\n      <th>Adj Close</th>\n      <th>Volume</th>\n    </tr>\n  </thead>\n  <tbody>\n    <tr>\n      <th>0</th>\n      <td>1986-03-10 00:00:00</td>\n      <td>0.088542</td>\n      <td>0.102431</td>\n      <td>0.088542</td>\n      <td>0.100694</td>\n      <td>0.062427</td>\n      <td>1339948800</td>\n    </tr>\n    <tr>\n      <th>1</th>\n      <td>1986-03-17 00:00:00</td>\n      <td>0.100694</td>\n      <td>0.103299</td>\n      <td>0.091146</td>\n      <td>0.092882</td>\n      <td>0.057583</td>\n      <td>367257600</td>\n    </tr>\n    <tr>\n      <th>2</th>\n      <td>1986-03-24 00:00:00</td>\n      <td>0.092882</td>\n      <td>0.096354</td>\n      <td>0.089410</td>\n      <td>0.096354</td>\n      <td>0.059736</td>\n      <td>136972800</td>\n    </tr>\n    <tr>\n      <th>3</th>\n      <td>1986-03-31 00:00:00</td>\n      <td>0.096354</td>\n      <td>0.098958</td>\n      <td>0.093750</td>\n      <td>0.096354</td>\n      <td>0.059736</td>\n      <td>100598400</td>\n    </tr>\n    <tr>\n      <th>4</th>\n      <td>1986-04-07 00:00:00</td>\n      <td>0.096354</td>\n      <td>0.101563</td>\n      <td>0.092882</td>\n      <td>0.099826</td>\n      <td>0.061889</td>\n      <td>70070400</td>\n    </tr>\n  </tbody>\n</table>\n</div>"
     },
     "execution_count": 19,
     "metadata": {},
     "output_type": "execute_result"
    }
   ],
   "source": [
    "df_microsoft_weekly.head()"
   ],
   "metadata": {
    "collapsed": false,
    "ExecuteTime": {
     "end_time": "2023-12-27T13:05:38.348982200Z",
     "start_time": "2023-12-27T13:05:38.202932900Z"
    }
   },
   "id": "7a1ed0525d776a9b"
  },
  {
   "cell_type": "code",
   "execution_count": 20,
   "outputs": [
    {
     "data": {
      "text/plain": "                  Date      Open      High       Low     Close  Adj Close  \\\n0  1986-04-01 00:00:00  0.095486  0.121962  0.092882  0.111979   0.069423   \n1  1986-05-01 00:00:00  0.111979  0.123264  0.107639  0.121528   0.075343   \n2  1986-06-01 00:00:00  0.121528  0.121528  0.102431  0.106771   0.066194   \n3  1986-07-01 00:00:00  0.106771  0.109375  0.090278  0.098958   0.061350   \n4  1986-08-01 00:00:00  0.098958  0.106771  0.094618  0.098958   0.061350   \n\n      Volume  \n0  547142400  \n1  333446400  \n2  293788800  \n3  460800000  \n4  266256000  ",
      "text/html": "<div>\n<style scoped>\n    .dataframe tbody tr th:only-of-type {\n        vertical-align: middle;\n    }\n\n    .dataframe tbody tr th {\n        vertical-align: top;\n    }\n\n    .dataframe thead th {\n        text-align: right;\n    }\n</style>\n<table border=\"1\" class=\"dataframe\">\n  <thead>\n    <tr style=\"text-align: right;\">\n      <th></th>\n      <th>Date</th>\n      <th>Open</th>\n      <th>High</th>\n      <th>Low</th>\n      <th>Close</th>\n      <th>Adj Close</th>\n      <th>Volume</th>\n    </tr>\n  </thead>\n  <tbody>\n    <tr>\n      <th>0</th>\n      <td>1986-04-01 00:00:00</td>\n      <td>0.095486</td>\n      <td>0.121962</td>\n      <td>0.092882</td>\n      <td>0.111979</td>\n      <td>0.069423</td>\n      <td>547142400</td>\n    </tr>\n    <tr>\n      <th>1</th>\n      <td>1986-05-01 00:00:00</td>\n      <td>0.111979</td>\n      <td>0.123264</td>\n      <td>0.107639</td>\n      <td>0.121528</td>\n      <td>0.075343</td>\n      <td>333446400</td>\n    </tr>\n    <tr>\n      <th>2</th>\n      <td>1986-06-01 00:00:00</td>\n      <td>0.121528</td>\n      <td>0.121528</td>\n      <td>0.102431</td>\n      <td>0.106771</td>\n      <td>0.066194</td>\n      <td>293788800</td>\n    </tr>\n    <tr>\n      <th>3</th>\n      <td>1986-07-01 00:00:00</td>\n      <td>0.106771</td>\n      <td>0.109375</td>\n      <td>0.090278</td>\n      <td>0.098958</td>\n      <td>0.061350</td>\n      <td>460800000</td>\n    </tr>\n    <tr>\n      <th>4</th>\n      <td>1986-08-01 00:00:00</td>\n      <td>0.098958</td>\n      <td>0.106771</td>\n      <td>0.094618</td>\n      <td>0.098958</td>\n      <td>0.061350</td>\n      <td>266256000</td>\n    </tr>\n  </tbody>\n</table>\n</div>"
     },
     "execution_count": 20,
     "metadata": {},
     "output_type": "execute_result"
    }
   ],
   "source": [
    "df_microsoft_monthly.head()"
   ],
   "metadata": {
    "collapsed": false,
    "ExecuteTime": {
     "end_time": "2023-12-27T13:05:53.262093Z",
     "start_time": "2023-12-27T13:05:53.056992600Z"
    }
   },
   "id": "e69c2028ff371a"
  },
  {
   "cell_type": "code",
   "execution_count": 21,
   "outputs": [
    {
     "data": {
      "text/plain": "                  Date      Open      High       Low     Close  Adj Close  \\\n0  1986-03-01 00:00:00  0.095486  0.123264  0.092882  0.121528   0.075343   \n1  1986-06-01 00:00:00  0.121528  0.121528  0.090278  0.098958   0.061350   \n2  1986-09-01 00:00:00  0.098958  0.177951  0.091146  0.172743   0.107094   \n3  1986-12-01 00:00:00  0.172743  0.276042  0.157118  0.266493   0.165216   \n4  1987-03-01 00:00:00  0.266493  0.445313  0.255208  0.400174   0.248093   \n\n       Volume  \n0   880588800  \n1  1020844800  \n2  2904796800  \n3  4517395200  \n4  6093964800  ",
      "text/html": "<div>\n<style scoped>\n    .dataframe tbody tr th:only-of-type {\n        vertical-align: middle;\n    }\n\n    .dataframe tbody tr th {\n        vertical-align: top;\n    }\n\n    .dataframe thead th {\n        text-align: right;\n    }\n</style>\n<table border=\"1\" class=\"dataframe\">\n  <thead>\n    <tr style=\"text-align: right;\">\n      <th></th>\n      <th>Date</th>\n      <th>Open</th>\n      <th>High</th>\n      <th>Low</th>\n      <th>Close</th>\n      <th>Adj Close</th>\n      <th>Volume</th>\n    </tr>\n  </thead>\n  <tbody>\n    <tr>\n      <th>0</th>\n      <td>1986-03-01 00:00:00</td>\n      <td>0.095486</td>\n      <td>0.123264</td>\n      <td>0.092882</td>\n      <td>0.121528</td>\n      <td>0.075343</td>\n      <td>880588800</td>\n    </tr>\n    <tr>\n      <th>1</th>\n      <td>1986-06-01 00:00:00</td>\n      <td>0.121528</td>\n      <td>0.121528</td>\n      <td>0.090278</td>\n      <td>0.098958</td>\n      <td>0.061350</td>\n      <td>1020844800</td>\n    </tr>\n    <tr>\n      <th>2</th>\n      <td>1986-09-01 00:00:00</td>\n      <td>0.098958</td>\n      <td>0.177951</td>\n      <td>0.091146</td>\n      <td>0.172743</td>\n      <td>0.107094</td>\n      <td>2904796800</td>\n    </tr>\n    <tr>\n      <th>3</th>\n      <td>1986-12-01 00:00:00</td>\n      <td>0.172743</td>\n      <td>0.276042</td>\n      <td>0.157118</td>\n      <td>0.266493</td>\n      <td>0.165216</td>\n      <td>4517395200</td>\n    </tr>\n    <tr>\n      <th>4</th>\n      <td>1987-03-01 00:00:00</td>\n      <td>0.266493</td>\n      <td>0.445313</td>\n      <td>0.255208</td>\n      <td>0.400174</td>\n      <td>0.248093</td>\n      <td>6093964800</td>\n    </tr>\n  </tbody>\n</table>\n</div>"
     },
     "execution_count": 21,
     "metadata": {},
     "output_type": "execute_result"
    }
   ],
   "source": [
    "df_microsoft_quarterly.head()"
   ],
   "metadata": {
    "collapsed": false,
    "ExecuteTime": {
     "end_time": "2023-12-27T13:06:06.911143300Z",
     "start_time": "2023-12-27T13:06:06.664579600Z"
    }
   },
   "id": "eb3543b183e483d4"
  },
  {
   "cell_type": "markdown",
   "source": [
    "Podstawowe informacje o wczytanych danych"
   ],
   "metadata": {
    "collapsed": false
   },
   "id": "c496d6065f222ef6"
  },
  {
   "cell_type": "code",
   "execution_count": 23,
   "outputs": [
    {
     "name": "stdout",
     "output_type": "stream",
     "text": [
      "<class 'pandas.core.frame.DataFrame'>\n",
      "RangeIndex: 9524 entries, 0 to 9523\n",
      "Data columns (total 7 columns):\n",
      " #   Column     Non-Null Count  Dtype  \n",
      "---  ------     --------------  -----  \n",
      " 0   Date       9524 non-null   object \n",
      " 1   Open       9524 non-null   float64\n",
      " 2   High       9524 non-null   float64\n",
      " 3   Low        9524 non-null   float64\n",
      " 4   Close      9524 non-null   float64\n",
      " 5   Adj Close  9524 non-null   float64\n",
      " 6   Volume     9524 non-null   int64  \n",
      "dtypes: float64(5), int64(1), object(1)\n",
      "memory usage: 521.0+ KB\n"
     ]
    }
   ],
   "source": [
    "df_microsoft_daily.info()"
   ],
   "metadata": {
    "collapsed": false,
    "ExecuteTime": {
     "end_time": "2023-12-27T14:00:31.212262Z",
     "start_time": "2023-12-27T14:00:31.033360300Z"
    }
   },
   "id": "4c615d4f05dac386"
  },
  {
   "cell_type": "code",
   "execution_count": 24,
   "outputs": [
    {
     "name": "stdout",
     "output_type": "stream",
     "text": [
      "<class 'pandas.core.frame.DataFrame'>\n",
      "RangeIndex: 1973 entries, 0 to 1972\n",
      "Data columns (total 7 columns):\n",
      " #   Column     Non-Null Count  Dtype  \n",
      "---  ------     --------------  -----  \n",
      " 0   Date       1973 non-null   object \n",
      " 1   Open       1973 non-null   float64\n",
      " 2   High       1973 non-null   float64\n",
      " 3   Low        1973 non-null   float64\n",
      " 4   Close      1973 non-null   float64\n",
      " 5   Adj Close  1973 non-null   float64\n",
      " 6   Volume     1973 non-null   int64  \n",
      "dtypes: float64(5), int64(1), object(1)\n",
      "memory usage: 108.0+ KB\n"
     ]
    }
   ],
   "source": [
    "df_microsoft_weekly.info()"
   ],
   "metadata": {
    "collapsed": false,
    "ExecuteTime": {
     "end_time": "2023-12-27T14:01:14.438261400Z",
     "start_time": "2023-12-27T14:01:14.380795900Z"
    }
   },
   "id": "a7270e33b2331fe4"
  },
  {
   "cell_type": "code",
   "execution_count": 25,
   "outputs": [
    {
     "name": "stdout",
     "output_type": "stream",
     "text": [
      "<class 'pandas.core.frame.DataFrame'>\n",
      "RangeIndex: 453 entries, 0 to 452\n",
      "Data columns (total 7 columns):\n",
      " #   Column     Non-Null Count  Dtype  \n",
      "---  ------     --------------  -----  \n",
      " 0   Date       453 non-null    object \n",
      " 1   Open       453 non-null    float64\n",
      " 2   High       453 non-null    float64\n",
      " 3   Low        453 non-null    float64\n",
      " 4   Close      453 non-null    float64\n",
      " 5   Adj Close  453 non-null    float64\n",
      " 6   Volume     453 non-null    int64  \n",
      "dtypes: float64(5), int64(1), object(1)\n",
      "memory usage: 24.9+ KB\n"
     ]
    }
   ],
   "source": [
    "df_microsoft_monthly.info()"
   ],
   "metadata": {
    "collapsed": false,
    "ExecuteTime": {
     "end_time": "2023-12-27T14:01:25.174723300Z",
     "start_time": "2023-12-27T14:01:25.090000200Z"
    }
   },
   "id": "89f7431ebc286d4c"
  },
  {
   "cell_type": "code",
   "execution_count": 26,
   "outputs": [
    {
     "name": "stdout",
     "output_type": "stream",
     "text": [
      "<class 'pandas.core.frame.DataFrame'>\n",
      "RangeIndex: 152 entries, 0 to 151\n",
      "Data columns (total 7 columns):\n",
      " #   Column     Non-Null Count  Dtype  \n",
      "---  ------     --------------  -----  \n",
      " 0   Date       152 non-null    object \n",
      " 1   Open       152 non-null    float64\n",
      " 2   High       152 non-null    float64\n",
      " 3   Low        152 non-null    float64\n",
      " 4   Close      152 non-null    float64\n",
      " 5   Adj Close  152 non-null    float64\n",
      " 6   Volume     152 non-null    int64  \n",
      "dtypes: float64(5), int64(1), object(1)\n",
      "memory usage: 8.4+ KB\n"
     ]
    }
   ],
   "source": [
    "df_microsoft_quarterly.info()"
   ],
   "metadata": {
    "collapsed": false,
    "ExecuteTime": {
     "end_time": "2023-12-27T14:01:35.192312200Z",
     "start_time": "2023-12-27T14:01:35.094703Z"
    }
   },
   "id": "3b31468fff27d26a"
  },
  {
   "cell_type": "markdown",
   "source": [
    "Widać, że dane zostały wprowadzone prawidłowo. Liczba rekordów jest zgodna z oczekiwaniami. Typy danych są także zgodne z oczekiwaniami oprócz kolumny Date, w któej data jest typu object."
   ],
   "metadata": {
    "collapsed": false
   },
   "id": "910d2496e4d09e7d"
  },
  {
   "cell_type": "markdown",
   "source": [
    "Czyszczenie danych"
   ],
   "metadata": {
    "collapsed": false
   },
   "id": "7ff5d387cc0f8bd"
  },
  {
   "cell_type": "code",
   "execution_count": 27,
   "outputs": [
    {
     "data": {
      "text/plain": "              Open         High          Low        Close    Adj Close  \\\ncount  9524.000000  9524.000000  9524.000000  9524.000000  9524.000000   \nmean     52.820706    53.383050    52.249194    52.836106    47.328041   \nstd      78.772359    79.565262    77.951983    78.800088    78.820530   \nmin       0.088542     0.092014     0.088542     0.090278     0.055969   \n25%       5.523438     5.615967     5.446045     5.529297     3.427964   \n50%      27.200001    27.469999    26.969999    27.219999    19.103064   \n75%      45.437500    46.060626    44.870001    45.471562    35.911226   \nmax     383.760010   384.299988   378.160004   382.700012   382.700012   \n\n             Volume  \ncount  9.524000e+03  \nmean   5.733973e+07  \nstd    3.815727e+07  \nmin    2.304000e+06  \n25%    3.300222e+07  \n50%    5.049085e+07  \n75%    7.123635e+07  \nmax    1.031789e+09  ",
      "text/html": "<div>\n<style scoped>\n    .dataframe tbody tr th:only-of-type {\n        vertical-align: middle;\n    }\n\n    .dataframe tbody tr th {\n        vertical-align: top;\n    }\n\n    .dataframe thead th {\n        text-align: right;\n    }\n</style>\n<table border=\"1\" class=\"dataframe\">\n  <thead>\n    <tr style=\"text-align: right;\">\n      <th></th>\n      <th>Open</th>\n      <th>High</th>\n      <th>Low</th>\n      <th>Close</th>\n      <th>Adj Close</th>\n      <th>Volume</th>\n    </tr>\n  </thead>\n  <tbody>\n    <tr>\n      <th>count</th>\n      <td>9524.000000</td>\n      <td>9524.000000</td>\n      <td>9524.000000</td>\n      <td>9524.000000</td>\n      <td>9524.000000</td>\n      <td>9.524000e+03</td>\n    </tr>\n    <tr>\n      <th>mean</th>\n      <td>52.820706</td>\n      <td>53.383050</td>\n      <td>52.249194</td>\n      <td>52.836106</td>\n      <td>47.328041</td>\n      <td>5.733973e+07</td>\n    </tr>\n    <tr>\n      <th>std</th>\n      <td>78.772359</td>\n      <td>79.565262</td>\n      <td>77.951983</td>\n      <td>78.800088</td>\n      <td>78.820530</td>\n      <td>3.815727e+07</td>\n    </tr>\n    <tr>\n      <th>min</th>\n      <td>0.088542</td>\n      <td>0.092014</td>\n      <td>0.088542</td>\n      <td>0.090278</td>\n      <td>0.055969</td>\n      <td>2.304000e+06</td>\n    </tr>\n    <tr>\n      <th>25%</th>\n      <td>5.523438</td>\n      <td>5.615967</td>\n      <td>5.446045</td>\n      <td>5.529297</td>\n      <td>3.427964</td>\n      <td>3.300222e+07</td>\n    </tr>\n    <tr>\n      <th>50%</th>\n      <td>27.200001</td>\n      <td>27.469999</td>\n      <td>26.969999</td>\n      <td>27.219999</td>\n      <td>19.103064</td>\n      <td>5.049085e+07</td>\n    </tr>\n    <tr>\n      <th>75%</th>\n      <td>45.437500</td>\n      <td>46.060626</td>\n      <td>44.870001</td>\n      <td>45.471562</td>\n      <td>35.911226</td>\n      <td>7.123635e+07</td>\n    </tr>\n    <tr>\n      <th>max</th>\n      <td>383.760010</td>\n      <td>384.299988</td>\n      <td>378.160004</td>\n      <td>382.700012</td>\n      <td>382.700012</td>\n      <td>1.031789e+09</td>\n    </tr>\n  </tbody>\n</table>\n</div>"
     },
     "execution_count": 27,
     "metadata": {},
     "output_type": "execute_result"
    }
   ],
   "source": [
    "# ogólne informacje o wczytanych danych\n",
    "\n",
    "df_microsoft_daily.describe()"
   ],
   "metadata": {
    "collapsed": false,
    "ExecuteTime": {
     "end_time": "2023-12-27T14:07:05.737498800Z",
     "start_time": "2023-12-27T14:07:05.640743800Z"
    }
   },
   "id": "a96fcd2af717a0be"
  },
  {
   "cell_type": "code",
   "execution_count": 28,
   "outputs": [
    {
     "data": {
      "text/plain": "              Open         High          Low        Close    Adj Close  \\\ncount  1973.000000  1973.000000  1973.000000  1973.000000  1973.000000   \nmean     52.838551    54.326388    51.543440    53.074646    47.549383   \nstd      78.762880    80.933594    76.939752    79.182533    79.204835   \nmin       0.088542     0.096354     0.088542     0.092882     0.057583   \n25%       5.539063     5.781250     5.335938     5.609375     3.477609   \n50%      27.205000    27.840000    26.590000    27.270000    19.065594   \n75%      45.430000    46.900002    44.187500    45.656250    36.053196   \nmax     376.779999   384.299988   373.500000   377.429993   377.429993   \n\n             Volume  \ncount  1.973000e+03  \nmean   2.767949e+08  \nstd    1.443870e+08  \nmin    2.272320e+07  \n25%    1.702224e+08  \n50%    2.610543e+08  \n75%    3.485209e+08  \nmax    1.339949e+09  ",
      "text/html": "<div>\n<style scoped>\n    .dataframe tbody tr th:only-of-type {\n        vertical-align: middle;\n    }\n\n    .dataframe tbody tr th {\n        vertical-align: top;\n    }\n\n    .dataframe thead th {\n        text-align: right;\n    }\n</style>\n<table border=\"1\" class=\"dataframe\">\n  <thead>\n    <tr style=\"text-align: right;\">\n      <th></th>\n      <th>Open</th>\n      <th>High</th>\n      <th>Low</th>\n      <th>Close</th>\n      <th>Adj Close</th>\n      <th>Volume</th>\n    </tr>\n  </thead>\n  <tbody>\n    <tr>\n      <th>count</th>\n      <td>1973.000000</td>\n      <td>1973.000000</td>\n      <td>1973.000000</td>\n      <td>1973.000000</td>\n      <td>1973.000000</td>\n      <td>1.973000e+03</td>\n    </tr>\n    <tr>\n      <th>mean</th>\n      <td>52.838551</td>\n      <td>54.326388</td>\n      <td>51.543440</td>\n      <td>53.074646</td>\n      <td>47.549383</td>\n      <td>2.767949e+08</td>\n    </tr>\n    <tr>\n      <th>std</th>\n      <td>78.762880</td>\n      <td>80.933594</td>\n      <td>76.939752</td>\n      <td>79.182533</td>\n      <td>79.204835</td>\n      <td>1.443870e+08</td>\n    </tr>\n    <tr>\n      <th>min</th>\n      <td>0.088542</td>\n      <td>0.096354</td>\n      <td>0.088542</td>\n      <td>0.092882</td>\n      <td>0.057583</td>\n      <td>2.272320e+07</td>\n    </tr>\n    <tr>\n      <th>25%</th>\n      <td>5.539063</td>\n      <td>5.781250</td>\n      <td>5.335938</td>\n      <td>5.609375</td>\n      <td>3.477609</td>\n      <td>1.702224e+08</td>\n    </tr>\n    <tr>\n      <th>50%</th>\n      <td>27.205000</td>\n      <td>27.840000</td>\n      <td>26.590000</td>\n      <td>27.270000</td>\n      <td>19.065594</td>\n      <td>2.610543e+08</td>\n    </tr>\n    <tr>\n      <th>75%</th>\n      <td>45.430000</td>\n      <td>46.900002</td>\n      <td>44.187500</td>\n      <td>45.656250</td>\n      <td>36.053196</td>\n      <td>3.485209e+08</td>\n    </tr>\n    <tr>\n      <th>max</th>\n      <td>376.779999</td>\n      <td>384.299988</td>\n      <td>373.500000</td>\n      <td>377.429993</td>\n      <td>377.429993</td>\n      <td>1.339949e+09</td>\n    </tr>\n  </tbody>\n</table>\n</div>"
     },
     "execution_count": 28,
     "metadata": {},
     "output_type": "execute_result"
    }
   ],
   "source": [
    "df_microsoft_weekly.describe()"
   ],
   "metadata": {
    "collapsed": false,
    "ExecuteTime": {
     "end_time": "2023-12-27T14:11:14.685549900Z",
     "start_time": "2023-12-27T14:11:14.604421900Z"
    }
   },
   "id": "7adbe5740476bd0c"
  },
  {
   "cell_type": "code",
   "execution_count": 29,
   "outputs": [
    {
     "data": {
      "text/plain": "             Open        High         Low       Close   Adj Close  \\\ncount  453.000000  453.000000  453.000000  453.000000  453.000000   \nmean    52.745877   56.126207   49.926336   53.503895   47.945798   \nstd     78.739213   83.521793   74.587995   80.006665   80.011090   \nmin      0.095486    0.106771    0.090278    0.098090    0.060812   \n25%      5.656250    6.117188    5.210938    5.656250    3.506670   \n50%     27.250000   28.549999   25.719999   27.299999   19.015331   \n75%     45.093750   47.812500   42.187500   45.281250   35.626637   \nmax    376.760010  384.299988  362.899994  378.910004  378.142517   \n\n             Volume  \ncount  4.530000e+02  \nmean   1.201455e+09  \nstd    5.048074e+08  \nmin    2.662560e+08  \n25%    8.004316e+08  \n50%    1.219400e+09  \n75%    1.472519e+09  \nmax    3.567226e+09  ",
      "text/html": "<div>\n<style scoped>\n    .dataframe tbody tr th:only-of-type {\n        vertical-align: middle;\n    }\n\n    .dataframe tbody tr th {\n        vertical-align: top;\n    }\n\n    .dataframe thead th {\n        text-align: right;\n    }\n</style>\n<table border=\"1\" class=\"dataframe\">\n  <thead>\n    <tr style=\"text-align: right;\">\n      <th></th>\n      <th>Open</th>\n      <th>High</th>\n      <th>Low</th>\n      <th>Close</th>\n      <th>Adj Close</th>\n      <th>Volume</th>\n    </tr>\n  </thead>\n  <tbody>\n    <tr>\n      <th>count</th>\n      <td>453.000000</td>\n      <td>453.000000</td>\n      <td>453.000000</td>\n      <td>453.000000</td>\n      <td>453.000000</td>\n      <td>4.530000e+02</td>\n    </tr>\n    <tr>\n      <th>mean</th>\n      <td>52.745877</td>\n      <td>56.126207</td>\n      <td>49.926336</td>\n      <td>53.503895</td>\n      <td>47.945798</td>\n      <td>1.201455e+09</td>\n    </tr>\n    <tr>\n      <th>std</th>\n      <td>78.739213</td>\n      <td>83.521793</td>\n      <td>74.587995</td>\n      <td>80.006665</td>\n      <td>80.011090</td>\n      <td>5.048074e+08</td>\n    </tr>\n    <tr>\n      <th>min</th>\n      <td>0.095486</td>\n      <td>0.106771</td>\n      <td>0.090278</td>\n      <td>0.098090</td>\n      <td>0.060812</td>\n      <td>2.662560e+08</td>\n    </tr>\n    <tr>\n      <th>25%</th>\n      <td>5.656250</td>\n      <td>6.117188</td>\n      <td>5.210938</td>\n      <td>5.656250</td>\n      <td>3.506670</td>\n      <td>8.004316e+08</td>\n    </tr>\n    <tr>\n      <th>50%</th>\n      <td>27.250000</td>\n      <td>28.549999</td>\n      <td>25.719999</td>\n      <td>27.299999</td>\n      <td>19.015331</td>\n      <td>1.219400e+09</td>\n    </tr>\n    <tr>\n      <th>75%</th>\n      <td>45.093750</td>\n      <td>47.812500</td>\n      <td>42.187500</td>\n      <td>45.281250</td>\n      <td>35.626637</td>\n      <td>1.472519e+09</td>\n    </tr>\n    <tr>\n      <th>max</th>\n      <td>376.760010</td>\n      <td>384.299988</td>\n      <td>362.899994</td>\n      <td>378.910004</td>\n      <td>378.142517</td>\n      <td>3.567226e+09</td>\n    </tr>\n  </tbody>\n</table>\n</div>"
     },
     "execution_count": 29,
     "metadata": {},
     "output_type": "execute_result"
    }
   ],
   "source": [
    "df_microsoft_monthly.describe()"
   ],
   "metadata": {
    "collapsed": false,
    "ExecuteTime": {
     "end_time": "2023-12-27T14:11:27.967326900Z",
     "start_time": "2023-12-27T14:11:27.790269900Z"
    }
   },
   "id": "f42e033ee09e9850"
  },
  {
   "cell_type": "code",
   "execution_count": 30,
   "outputs": [
    {
     "data": {
      "text/plain": "             Open        High         Low       Close   Adj Close  \\\ncount  152.000000  152.000000  152.000000  152.000000  152.000000   \nmean    53.234635   59.777967   48.725704   55.636722   50.122207   \nstd     80.768072   89.806715   73.835863   84.589031   84.679789   \nmin      0.095486    0.121528    0.090278    0.098958    0.061350   \n25%      5.412110    6.472657    5.015625    5.697266    3.532099   \n50%     26.965000   29.898125   24.530000   27.035001   19.138899   \n75%     44.966875   49.667500   40.147499   45.453360   37.992473   \nmax    376.760010  384.299988  362.899994  378.910004  378.142517   \n\n             Volume  \ncount  1.520000e+02  \nmean   3.580653e+09  \nstd    1.347780e+09  \nmin    4.866583e+08  \n25%    2.261966e+09  \n50%    3.776785e+09  \n75%    4.403807e+09  \nmax    6.767030e+09  ",
      "text/html": "<div>\n<style scoped>\n    .dataframe tbody tr th:only-of-type {\n        vertical-align: middle;\n    }\n\n    .dataframe tbody tr th {\n        vertical-align: top;\n    }\n\n    .dataframe thead th {\n        text-align: right;\n    }\n</style>\n<table border=\"1\" class=\"dataframe\">\n  <thead>\n    <tr style=\"text-align: right;\">\n      <th></th>\n      <th>Open</th>\n      <th>High</th>\n      <th>Low</th>\n      <th>Close</th>\n      <th>Adj Close</th>\n      <th>Volume</th>\n    </tr>\n  </thead>\n  <tbody>\n    <tr>\n      <th>count</th>\n      <td>152.000000</td>\n      <td>152.000000</td>\n      <td>152.000000</td>\n      <td>152.000000</td>\n      <td>152.000000</td>\n      <td>1.520000e+02</td>\n    </tr>\n    <tr>\n      <th>mean</th>\n      <td>53.234635</td>\n      <td>59.777967</td>\n      <td>48.725704</td>\n      <td>55.636722</td>\n      <td>50.122207</td>\n      <td>3.580653e+09</td>\n    </tr>\n    <tr>\n      <th>std</th>\n      <td>80.768072</td>\n      <td>89.806715</td>\n      <td>73.835863</td>\n      <td>84.589031</td>\n      <td>84.679789</td>\n      <td>1.347780e+09</td>\n    </tr>\n    <tr>\n      <th>min</th>\n      <td>0.095486</td>\n      <td>0.121528</td>\n      <td>0.090278</td>\n      <td>0.098958</td>\n      <td>0.061350</td>\n      <td>4.866583e+08</td>\n    </tr>\n    <tr>\n      <th>25%</th>\n      <td>5.412110</td>\n      <td>6.472657</td>\n      <td>5.015625</td>\n      <td>5.697266</td>\n      <td>3.532099</td>\n      <td>2.261966e+09</td>\n    </tr>\n    <tr>\n      <th>50%</th>\n      <td>26.965000</td>\n      <td>29.898125</td>\n      <td>24.530000</td>\n      <td>27.035001</td>\n      <td>19.138899</td>\n      <td>3.776785e+09</td>\n    </tr>\n    <tr>\n      <th>75%</th>\n      <td>44.966875</td>\n      <td>49.667500</td>\n      <td>40.147499</td>\n      <td>45.453360</td>\n      <td>37.992473</td>\n      <td>4.403807e+09</td>\n    </tr>\n    <tr>\n      <th>max</th>\n      <td>376.760010</td>\n      <td>384.299988</td>\n      <td>362.899994</td>\n      <td>378.910004</td>\n      <td>378.142517</td>\n      <td>6.767030e+09</td>\n    </tr>\n  </tbody>\n</table>\n</div>"
     },
     "execution_count": 30,
     "metadata": {},
     "output_type": "execute_result"
    }
   ],
   "source": [
    "df_microsoft_quarterly.describe()"
   ],
   "metadata": {
    "collapsed": false,
    "ExecuteTime": {
     "end_time": "2023-12-27T14:12:29.992122600Z",
     "start_time": "2023-12-27T14:12:29.838605300Z"
    }
   },
   "id": "9b44fc743eca7793"
  },
  {
   "cell_type": "code",
   "execution_count": null,
   "outputs": [],
   "source": [],
   "metadata": {
    "collapsed": false
   },
   "id": "44d995bb9c5b6a67"
  }
 ],
 "metadata": {
  "kernelspec": {
   "display_name": "Python 3",
   "language": "python",
   "name": "python3"
  },
  "language_info": {
   "codemirror_mode": {
    "name": "ipython",
    "version": 2
   },
   "file_extension": ".py",
   "mimetype": "text/x-python",
   "name": "python",
   "nbconvert_exporter": "python",
   "pygments_lexer": "ipython2",
   "version": "2.7.6"
  }
 },
 "nbformat": 4,
 "nbformat_minor": 5
}
